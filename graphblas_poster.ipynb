{
 "cells": [
  {
   "cell_type": "code",
   "execution_count": 2,
   "id": "40dac851",
   "metadata": {
    "slideshow": {
     "slide_type": "skip"
    }
   },
   "outputs": [],
   "source": [
    "import grblas as gb\n",
    "import numpy as np\n",
    "from grblas import Matrix, Vector, Recorder"
   ]
  },
  {
   "cell_type": "markdown",
   "id": "fe799153",
   "metadata": {
    "slideshow": {
     "slide_type": "slide"
    }
   },
   "source": [
    "# GraphBLAS in 10 seconds\n",
    "\n",
    "- [GraphBLAS](https://graphblas.github.io/) is a **fast** sparse linear algebra library\n",
    "- It is designed for **graph algorithms** in the language of **linear algebra**\n",
    "  - **Powerful** enough for other use cases!\n",
    "- Use from Python with [**`grblas`**](https://github.com/metagraph-dev/grblas) (our library) and `pygraphblas`\n",
    "\n",
    "![Graph adjacency matrix](https://graphblas.github.io/AdjacencyMatrixBFS.png)\n",
    "\n",
    "*Presenter: [Erik Welch](https://github.com/eriknw/) (Anaconda)*"
   ]
  },
  {
   "cell_type": "markdown",
   "id": "e3176038",
   "metadata": {
    "slideshow": {
     "slide_type": "slide"
    }
   },
   "source": [
    "# GraphBLAS in 30 seconds\n",
    "\n",
    "- **Graph computation is hard**\n",
    "  - Irregular access patterns -> poor locality -> cache misses and cache invalidation\n",
    "  - Difficult to scale and parallelize\n",
    "  - Difficult to write optimized, readable, portable code\n",
    "- **GraphBLAS FTW!**\n",
    "  - TODO"
   ]
  },
  {
   "cell_type": "markdown",
   "id": "f479503b",
   "metadata": {
    "slideshow": {
     "slide_type": "subslide"
    }
   },
   "source": [
    "TODO: Introduce matrix multiply with arbitrary semirings"
   ]
  },
  {
   "cell_type": "markdown",
   "id": "06c73f1f",
   "metadata": {
    "slideshow": {
     "slide_type": "subslide"
    }
   },
   "source": [
    "# `grblas` is like math notation\n",
    "\n",
    "Which requires novel Python syntax"
   ]
  },
  {
   "cell_type": "markdown",
   "id": "de9c4e0b",
   "metadata": {
    "slideshow": {
     "slide_type": "slide"
    }
   },
   "source": [
    "# GraphBLAS in 2 minutes\n",
    "\n",
    "Dive deeper into examples, syntax, features, etc."
   ]
  },
  {
   "cell_type": "code",
   "execution_count": null,
   "id": "30357597",
   "metadata": {
    "slideshow": {
     "slide_type": "subslide"
    }
   },
   "outputs": [],
   "source": []
  },
  {
   "cell_type": "code",
   "execution_count": null,
   "id": "b15864d2",
   "metadata": {
    "slideshow": {
     "slide_type": "subslide"
    }
   },
   "outputs": [],
   "source": []
  }
 ],
 "metadata": {
  "celltoolbar": "Slideshow",
  "kernelspec": {
   "display_name": "Python 3 (ipykernel)",
   "language": "python",
   "name": "python3"
  },
  "language_info": {
   "codemirror_mode": {
    "name": "ipython",
    "version": 3
   },
   "file_extension": ".py",
   "mimetype": "text/x-python",
   "name": "python",
   "nbconvert_exporter": "python",
   "pygments_lexer": "ipython3",
   "version": "3.9.5"
  }
 },
 "nbformat": 4,
 "nbformat_minor": 5
}
